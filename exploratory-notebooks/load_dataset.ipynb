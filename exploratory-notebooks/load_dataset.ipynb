{
 "cells": [
  {
   "cell_type": "code",
   "execution_count": 1,
   "id": "78576df3-2676-4e5d-9f56-1fc3bfd0495b",
   "metadata": {},
   "outputs": [],
   "source": [
    "import pandas as pd\n",
    "import requests\n",
    "import matplotlib.pyplot as plt\n",
    "import datetime"
   ]
  },
  {
   "cell_type": "code",
   "execution_count": 2,
   "id": "decef472-bef4-4ff8-9aee-ce5c9a8b0f57",
   "metadata": {},
   "outputs": [],
   "source": [
    "# Get data for all of 2023\n",
    "start_date_time = \"202301010000\"\n",
    "end_date_time = \"202308250000\"\n",
    "\n",
    "url = f\"https://hourlypricing.comed.com/api?type=5minutefeed&datestart={start_date_time}&dateend={end_date_time}\""
   ]
  },
  {
   "cell_type": "code",
   "execution_count": 3,
   "id": "a6b7984e-5eb8-4283-8eeb-53b6bd8b452b",
   "metadata": {},
   "outputs": [],
   "source": [
    "response = requests.get(url)"
   ]
  },
  {
   "cell_type": "code",
   "execution_count": 4,
   "id": "de018fd0-39f1-49cc-baf7-1dea1c948c86",
   "metadata": {},
   "outputs": [],
   "source": [
    "prices = response.json()"
   ]
  },
  {
   "cell_type": "code",
   "execution_count": 5,
   "id": "f8cd5e92-1757-4064-9364-08bbd6c64641",
   "metadata": {},
   "outputs": [],
   "source": [
    "# Convert to a pandas dataframe\n",
    "prices_df = pd.DataFrame(prices, dtype='float')"
   ]
  },
  {
   "cell_type": "code",
   "execution_count": 6,
   "id": "6763b953-cb2f-40fb-b57e-2ed474454590",
   "metadata": {},
   "outputs": [],
   "source": [
    "prices_df['millisUTC'] = prices_df['millisUTC'].apply(\n",
    "    lambda x: datetime.datetime.fromtimestamp(\n",
    "        float(x) / 1000.0, tz=datetime.timezone.utc)\n",
    ")\n",
    "\n",
    "prices_df['millisUTC'] = pd.to_datetime(prices_df['millisUTC'])"
   ]
  },
  {
   "cell_type": "code",
   "execution_count": 7,
   "id": "045d1ec6-a193-4907-9513-e1e5dac95af0",
   "metadata": {},
   "outputs": [],
   "source": [
    "prices_df = prices_df.iloc[::-1].reset_index(drop=True)"
   ]
  },
  {
   "cell_type": "code",
   "execution_count": 8,
   "id": "8b288b81-35fb-4050-be4b-418e84764910",
   "metadata": {},
   "outputs": [],
   "source": [
    "prices_df.to_csv(\"/workspaces/comed-pricing/data/raw_data.csv\", index=None)"
   ]
  },
  {
   "cell_type": "code",
   "execution_count": 28,
   "id": "08cc3590",
   "metadata": {},
   "outputs": [],
   "source": []
  },
  {
   "cell_type": "code",
   "execution_count": null,
   "id": "8cc045b3",
   "metadata": {},
   "outputs": [],
   "source": []
  },
  {
   "cell_type": "code",
   "execution_count": null,
   "id": "28976c44",
   "metadata": {},
   "outputs": [],
   "source": []
  }
 ],
 "metadata": {
  "kernelspec": {
   "display_name": "Python 3 (ipykernel)",
   "language": "python",
   "name": "python3"
  },
  "language_info": {
   "codemirror_mode": {
    "name": "ipython",
    "version": 3
   },
   "file_extension": ".py",
   "mimetype": "text/x-python",
   "name": "python",
   "nbconvert_exporter": "python",
   "pygments_lexer": "ipython3",
   "version": "3.10.8"
  }
 },
 "nbformat": 4,
 "nbformat_minor": 5
}
