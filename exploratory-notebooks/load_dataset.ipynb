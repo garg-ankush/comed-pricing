{
 "cells": [
  {
   "cell_type": "code",
   "execution_count": 20,
   "id": "78576df3-2676-4e5d-9f56-1fc3bfd0495b",
   "metadata": {},
   "outputs": [],
   "source": [
    "import pandas as pd\n",
    "import requests\n",
    "import datetime"
   ]
  },
  {
   "cell_type": "code",
   "execution_count": 38,
   "id": "decef472-bef4-4ff8-9aee-ce5c9a8b0f57",
   "metadata": {},
   "outputs": [],
   "source": [
    "# Get data for all of 2023\n",
    "start_date_time = \"202301010000\"\n",
    "end_date_time = \"202308250000\"\n",
    "\n",
    "# start_date_time = \"202308250000\"\n",
    "# end_date_time =   \"202309050000\"\n",
    "\n",
    "url = f\"https://hourlypricing.comed.com/api?type=5minutefeed&datestart={start_date_time}&dateend={end_date_time}\""
   ]
  },
  {
   "cell_type": "code",
   "execution_count": 39,
   "id": "a6b7984e-5eb8-4283-8eeb-53b6bd8b452b",
   "metadata": {},
   "outputs": [],
   "source": [
    "response = requests.get(url)"
   ]
  },
  {
   "cell_type": "code",
   "execution_count": 40,
   "id": "de018fd0-39f1-49cc-baf7-1dea1c948c86",
   "metadata": {},
   "outputs": [],
   "source": [
    "prices = response.json()"
   ]
  },
  {
   "cell_type": "code",
   "execution_count": 41,
   "id": "f8cd5e92-1757-4064-9364-08bbd6c64641",
   "metadata": {},
   "outputs": [],
   "source": [
    "# Convert to a pandas dataframe\n",
    "prices_df = pd.DataFrame(prices, dtype='float')"
   ]
  },
  {
   "cell_type": "code",
   "execution_count": 42,
   "id": "6763b953-cb2f-40fb-b57e-2ed474454590",
   "metadata": {},
   "outputs": [],
   "source": [
    "prices_df['millisUTC'] = prices_df['millisUTC'].apply(\n",
    "    lambda x: datetime.datetime.fromtimestamp(\n",
    "        float(x) / 1000.0, tz=datetime.timezone.utc)\n",
    ")\n",
    "\n",
    "prices_df['millisUTC'] = pd.to_datetime(prices_df['millisUTC'])"
   ]
  },
  {
   "cell_type": "code",
   "execution_count": 43,
   "id": "045d1ec6-a193-4907-9513-e1e5dac95af0",
   "metadata": {},
   "outputs": [],
   "source": [
    "prices_df = prices_df.iloc[::-1].reset_index(drop=True)"
   ]
  },
  {
   "cell_type": "code",
   "execution_count": 44,
   "id": "28976c44",
   "metadata": {},
   "outputs": [],
   "source": [
    "def clean_up(data, resample_units=None):\n",
    "     # reset_index\n",
    "     # Convert the 'timestamp' column to datetime format and set it as the index\n",
    "    data['millisUTC'] = pd.to_datetime(data['millisUTC'])\n",
    "    data.set_index('millisUTC', inplace=True)\n",
    "\n",
    "    # Resample dataset\n",
    "    if resample_units is not None:\n",
    "        data = data.resample(resample_units, label=\"right\").mean()\n",
    "\n",
    "    # Need a better way to handle missing values\n",
    "    data['price'] = data['price'].ffill()\n",
    "    data.reset_index(drop=True, inplace=True)\n",
    "    return data"
   ]
  },
  {
   "cell_type": "code",
   "execution_count": 45,
   "id": "1b18902f-2b82-4d71-a08b-cc07a74b1011",
   "metadata": {},
   "outputs": [
    {
     "data": {
      "text/html": [
       "<div>\n",
       "<style scoped>\n",
       "    .dataframe tbody tr th:only-of-type {\n",
       "        vertical-align: middle;\n",
       "    }\n",
       "\n",
       "    .dataframe tbody tr th {\n",
       "        vertical-align: top;\n",
       "    }\n",
       "\n",
       "    .dataframe thead th {\n",
       "        text-align: right;\n",
       "    }\n",
       "</style>\n",
       "<table border=\"1\" class=\"dataframe\">\n",
       "  <thead>\n",
       "    <tr style=\"text-align: right;\">\n",
       "      <th></th>\n",
       "      <th>price</th>\n",
       "    </tr>\n",
       "  </thead>\n",
       "  <tbody>\n",
       "    <tr>\n",
       "      <th>0</th>\n",
       "      <td>2.1</td>\n",
       "    </tr>\n",
       "    <tr>\n",
       "      <th>1</th>\n",
       "      <td>2.1</td>\n",
       "    </tr>\n",
       "    <tr>\n",
       "      <th>2</th>\n",
       "      <td>2.0</td>\n",
       "    </tr>\n",
       "    <tr>\n",
       "      <th>3</th>\n",
       "      <td>2.1</td>\n",
       "    </tr>\n",
       "    <tr>\n",
       "      <th>4</th>\n",
       "      <td>2.0</td>\n",
       "    </tr>\n",
       "    <tr>\n",
       "      <th>...</th>\n",
       "      <td>...</td>\n",
       "    </tr>\n",
       "    <tr>\n",
       "      <th>67121</th>\n",
       "      <td>2.2</td>\n",
       "    </tr>\n",
       "    <tr>\n",
       "      <th>67122</th>\n",
       "      <td>2.1</td>\n",
       "    </tr>\n",
       "    <tr>\n",
       "      <th>67123</th>\n",
       "      <td>2.2</td>\n",
       "    </tr>\n",
       "    <tr>\n",
       "      <th>67124</th>\n",
       "      <td>2.3</td>\n",
       "    </tr>\n",
       "    <tr>\n",
       "      <th>67125</th>\n",
       "      <td>2.1</td>\n",
       "    </tr>\n",
       "  </tbody>\n",
       "</table>\n",
       "<p>67126 rows × 1 columns</p>\n",
       "</div>"
      ],
      "text/plain": [
       "       price\n",
       "0        2.1\n",
       "1        2.1\n",
       "2        2.0\n",
       "3        2.1\n",
       "4        2.0\n",
       "...      ...\n",
       "67121    2.2\n",
       "67122    2.1\n",
       "67123    2.2\n",
       "67124    2.3\n",
       "67125    2.1\n",
       "\n",
       "[67126 rows x 1 columns]"
      ]
     },
     "execution_count": 45,
     "metadata": {},
     "output_type": "execute_result"
    }
   ],
   "source": [
    "clean_up(prices_df)"
   ]
  },
  {
   "cell_type": "code",
   "execution_count": 46,
   "id": "b7cbf6cd-51ac-4069-96ff-ff2bdd73b24d",
   "metadata": {},
   "outputs": [],
   "source": [
    "prices_df.to_csv(\"/Users/ankushgarg/Desktop/projects/comed-pricing/data/raw_data.csv\", index=None)"
   ]
  },
  {
   "cell_type": "code",
   "execution_count": null,
   "id": "89b7729d-95b8-498b-b7e5-9e5c4d02767a",
   "metadata": {},
   "outputs": [],
   "source": []
  }
 ],
 "metadata": {
  "kernelspec": {
   "display_name": "Python 3 (ipykernel)",
   "language": "python",
   "name": "python3"
  },
  "language_info": {
   "codemirror_mode": {
    "name": "ipython",
    "version": 3
   },
   "file_extension": ".py",
   "mimetype": "text/x-python",
   "name": "python",
   "nbconvert_exporter": "python",
   "pygments_lexer": "ipython3",
   "version": "3.11.5"
  }
 },
 "nbformat": 4,
 "nbformat_minor": 5
}
