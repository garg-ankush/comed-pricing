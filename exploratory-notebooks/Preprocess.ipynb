{
 "cells": [
  {
   "cell_type": "code",
   "execution_count": 1,
   "id": "e3daaa7b-8bfb-4059-9d50-94bd3a07ed62",
   "metadata": {},
   "outputs": [],
   "source": [
    "import pandas as pd\n",
    "import numpy as np\n",
    "import pickle\n",
    "import sklearn\n",
    "from sklearn.base import BaseEstimator, RegressorMixin\n",
    "import ray\n",
    "import torch"
   ]
  },
  {
   "cell_type": "code",
   "execution_count": 2,
   "id": "9eca1429-5654-44f7-8c9d-1cd2e0e953fb",
   "metadata": {},
   "outputs": [],
   "source": [
    "data = pd.read_csv(\"/workspaces/comed-pricing/data/raw_data.csv\")"
   ]
  },
  {
   "cell_type": "code",
   "execution_count": 3,
   "id": "e99db194-df8e-47a0-9ecc-3cb25e7d75c1",
   "metadata": {},
   "outputs": [],
   "source": [
    "def get_x_y_splits(data, columns, targets, n_steps_in, n_steps_out, gap, include_target_in_X=False):\n",
    "    \"\"\"This function converts a dataframe into X and Y sequences for training\"\"\"\n",
    "\n",
    "    # Include target column\n",
    "    if include_target_in_X:\n",
    "        columns = columns + targets\n",
    "\n",
    "    complete_x_array = data[columns].to_numpy()\n",
    "    complete_y_array = data[targets].to_numpy()\n",
    "\n",
    "    upper_bound = len(data) - (n_steps_in + n_steps_out + gap)\n",
    "    \n",
    "    # Pre-allocate arrays for performance\n",
    "    X_shape = (upper_bound, n_steps_in, complete_x_array.shape[1])\n",
    "    y_shape = (upper_bound, n_steps_out, complete_y_array.shape[1])\n",
    "\n",
    "    X_arrays = np.empty(X_shape, dtype=np.float32)\n",
    "    y_arrays = np.empty(y_shape, dtype=np.float32)\n",
    "\n",
    "    for index in range(upper_bound):\n",
    "        starting_X_index = index\n",
    "        ending_X_index = starting_X_index + n_steps_in\n",
    "        starting_y_index = ending_X_index + gap\n",
    "        ending_y_index = starting_y_index + n_steps_out\n",
    "\n",
    "        X_arrays[index] = complete_x_array[starting_X_index: ending_X_index]\n",
    "        y_arrays[index] = complete_y_array[starting_y_index: ending_y_index]\n",
    "\n",
    "    return torch.tensor(X_arrays, dtype=torch.float32), torch.tensor(y_arrays, dtype=torch.float32)\n"
   ]
  },
  {
   "cell_type": "code",
   "execution_count": 6,
   "id": "a2346e67-4990-4fea-bc6b-93962b882384",
   "metadata": {},
   "outputs": [],
   "source": [
    "def preprocess(data, columns, targets, n_steps_in, n_steps_out, gap, include_target_in_X=False, resample_units=None):\n",
    "    # reset_index\n",
    "     # Convert the 'timestamp' column to datetime format and set it as the index\n",
    "    data['millisUTC'] = pd.to_datetime(data['millisUTC'])\n",
    "    data.set_index('millisUTC', inplace=True)\n",
    "\n",
    "    # Resample dataset\n",
    "    if resample_units is not None:\n",
    "        data = data.resample(resample_units, label=\"right\").mean()\n",
    "\n",
    "    # Need a better way to handle missing values\n",
    "    data['price'] = data['price'].ffill()\n",
    "    data.reset_index(drop=True, inplace=True)\n",
    "    \n",
    "    X, y = get_x_y_splits(\n",
    "        data, \n",
    "        columns=columns, \n",
    "        targets=targets, \n",
    "        n_steps_in=n_steps_in, \n",
    "        n_steps_out=n_steps_out, \n",
    "        gap=gap, \n",
    "        include_target_in_X=include_target_in_X\n",
    "    )\n",
    "    \n",
    "    return X, y"
   ]
  },
  {
   "cell_type": "code",
   "execution_count": 8,
   "id": "8e2c3a02-ee31-4788-a8cb-ac91f4fd24dd",
   "metadata": {},
   "outputs": [],
   "source": [
    "data = pd.read_csv(\"/workspaces/comed-pricing/data/raw_data.csv\")\n",
    "X, y = preprocess(\n",
    "    data, \n",
    "    resample_units=\"60T\", # Resample values by 60 minutes\n",
    "    columns=['price'],\n",
    "    targets=['price'], \n",
    "    n_steps_in=5, \n",
    "    n_steps_out=10, \n",
    "    gap=60, \n",
    "    include_target_in_X=True\n",
    ") "
   ]
  },
  {
   "cell_type": "code",
   "execution_count": null,
   "id": "ac5b68ba-a24c-499a-95da-40c138748472",
   "metadata": {},
   "outputs": [],
   "source": []
  }
 ],
 "metadata": {
  "kernelspec": {
   "display_name": "Python 3 (ipykernel)",
   "language": "python",
   "name": "python3"
  },
  "language_info": {
   "codemirror_mode": {
    "name": "ipython",
    "version": 3
   },
   "file_extension": ".py",
   "mimetype": "text/x-python",
   "name": "python",
   "nbconvert_exporter": "python",
   "pygments_lexer": "ipython3",
   "version": "3.10.8"
  }
 },
 "nbformat": 4,
 "nbformat_minor": 5
}
